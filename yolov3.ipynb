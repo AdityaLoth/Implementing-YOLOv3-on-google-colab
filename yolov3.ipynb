{
  "nbformat": 4,
  "nbformat_minor": 0,
  "metadata": {
    "colab": {
      "name": "yolov3.ipynb",
      "provenance": [],
      "collapsed_sections": [],
      "mount_file_id": "1M-0MHL1wJOH9y1gRVwYTgUXrk0AXWq2o",
      "authorship_tag": "ABX9TyM7Ymu7kF6J4XXzw+2f8w+Z",
      "include_colab_link": true
    },
    "kernelspec": {
      "name": "python3",
      "display_name": "Python 3"
    },
    "accelerator": "GPU"
  },
  "cells": [
    {
      "cell_type": "markdown",
      "metadata": {
        "id": "view-in-github",
        "colab_type": "text"
      },
      "source": [
        "<a href=\"https://colab.research.google.com/github/AdityaLoth/Implementing-YOLOv3-on-google-colab/blob/master/yolov3.ipynb\" target=\"_parent\"><img src=\"https://colab.research.google.com/assets/colab-badge.svg\" alt=\"Open In Colab\"/></a>"
      ]
    },
    {
      "cell_type": "markdown",
      "metadata": {
        "id": "OFqaoaysHxei",
        "colab_type": "text"
      },
      "source": [
        "# **Step 1: Mounting google drive**\n"
      ]
    },
    {
      "cell_type": "code",
      "metadata": {
        "id": "SQBBEFHdHyBB",
        "colab_type": "code",
        "colab": {}
      },
      "source": [
        "# This cell imports the drive library and mounts your Google Drive as a VM local drive. You can access to your Drive files \n",
        "# using this path \"/content/gdrive/My Drive/\"\n",
        "\n",
        "from google.colab import drive\n",
        "drive.mount('/content/drive')"
      ],
      "execution_count": 0,
      "outputs": []
    },
    {
      "cell_type": "markdown",
      "metadata": {
        "id": "ZlfIhY4MIQ1d",
        "colab_type": "text"
      },
      "source": [
        "## **Step 2: Changing your working directory**\n",
        "\n",
        "First of all create a folder named darknet in your Google Drive at the location '/content/drive/'\n",
        "\n",
        "Then we'll make this our current working directory.\n"
      ]
    },
    {
      "cell_type": "code",
      "metadata": {
        "id": "U4GxrMo2JwPH",
        "colab_type": "code",
        "colab": {}
      },
      "source": [
        "%cd /drive/My\\ Drive/darknet"
      ],
      "execution_count": 0,
      "outputs": []
    },
    {
      "cell_type": "markdown",
      "metadata": {
        "id": "ugU5Dl4FKjga",
        "colab_type": "text"
      },
      "source": [
        "## **Step 3: Installing cuDNN**\n",
        "\n",
        "**Check CUDA release version**"
      ]
    },
    {
      "cell_type": "code",
      "metadata": {
        "id": "-DQ5YR9EVnZf",
        "colab_type": "code",
        "outputId": "4eb093e1-a839-4637-d708-30c306dce361",
        "colab": {
          "base_uri": "https://localhost:8080/",
          "height": 107
        }
      },
      "source": [
        "!/usr/local/cuda/bin/nvcc --version\n",
        "!pwd"
      ],
      "execution_count": 0,
      "outputs": [
        {
          "output_type": "stream",
          "text": [
            "nvcc: NVIDIA (R) Cuda compiler driver\n",
            "Copyright (c) 2005-2019 NVIDIA Corporation\n",
            "Built on Sun_Jul_28_19:07:16_PDT_2019\n",
            "Cuda compilation tools, release 10.1, V10.1.243\n",
            "/content\n"
          ],
          "name": "stdout"
        }
      ]
    },
    {
      "cell_type": "markdown",
      "metadata": {
        "id": "zoRMJc4bK8K7",
        "colab_type": "text"
      },
      "source": [
        "**Install cuDNN according to the current CUDA version**\n",
        "\n",
        "Now, you need to download cuDNN from Nvidia web site. You'll need to sign up on the site.\n",
        "\n",
        "\n",
        "*   Download cuDNN from [Nvidia website](https://developer.nvidia.com/cudnn). \n",
        "Right now, because we have CUDA 10.0 preinstalled in Colab runtime, you need download [cuDNN v7.5.0.56 for CUDA v10.0 ](https://developer.nvidia.com/compute/machine-learning/cudnn/secure/v7.5.0.56/prod/10.0_20190219/cudnn-10.0-linux-x64-v7.5.0.56.tgz)- the file is cudnn-10.0-linux-x64-v7.5.0.56.tgz\n",
        "\n",
        "*   On your Google Drive, create a folder named cuDNN in your folder darknet. Copy the tgz file there\n",
        "\n"
      ]
    },
    {
      "cell_type": "code",
      "metadata": {
        "id": "sEZuVd1UdlB_",
        "colab_type": "code",
        "colab": {}
      },
      "source": [
        "!tar -xzvf cuDNN/cudnn-10.0-linux-x64-v7.5.0.56.tgz -C /usr/local/\n",
        "!chmod a+r /usr/local/cuda/include/cudnn.h\n",
        "!cat /usr/local/cuda/include/cudnn.h | grep CUDNN_MAJOR -A 2"
      ],
      "execution_count": 0,
      "outputs": []
    },
    {
      "cell_type": "markdown",
      "metadata": {
        "id": "OuCn7977NkLq",
        "colab_type": "text"
      },
      "source": [
        "\n",
        "\n",
        "# **Step 4: Installing Darknet**\n",
        "\n",
        "This notebook works with AlexeyAB Darknet repo, which is based on Pjreddie's Darknet.\n",
        "\n",
        "Remember that cloning needs to be done only once. Once you clone the project you just have to change the directory on further runs. So comment the first line after first run"
      ]
    },
    {
      "cell_type": "code",
      "metadata": {
        "id": "x9TZGpv4wkxJ",
        "colab_type": "code",
        "colab": {}
      },
      "source": [
        "!git clone https://github.com/AlexeyAB/darknet/   #Comment this out for future runs\n",
        "%cd darknet"
      ],
      "execution_count": 0,
      "outputs": []
    },
    {
      "cell_type": "markdown",
      "metadata": {
        "id": "zQgganLVQX9r",
        "colab_type": "text"
      },
      "source": [
        "Now we will make our project.\n",
        "\n",
        "Before that we will make sure that the followinf flags are set to 1 in our Makefile. Either go to the newly created darknet folder to make changes or just run the following cell.\n",
        "\n",
        "GPU=1\n",
        "\n",
        "OPENCV=1\n",
        "\n",
        "cuDNN=1\n",
        "\n",
        "When compiling the first time, your output last line has to be something like this:\n",
        "\n",
        "g++ -std=c++11 -Iinclude/ -I3rdparty/stb/include -DOPENCVpkg-config --cflags opencv-DGPU (...)"
      ]
    },
    {
      "cell_type": "code",
      "metadata": {
        "id": "0gu-P_sER-k_",
        "colab_type": "code",
        "colab": {}
      },
      "source": [
        "!sed -i ‘s/GPU=0/GPU=1/g’ Makefile\n",
        "!sed -i ‘s/OPENCV=0/OPENCV=1/g’ Makefile\n",
        "!sed -i ‘s/cuDNN=0/cuDNN=1/g’ Makefile\n",
        "!make"
      ],
      "execution_count": 0,
      "outputs": []
    },
    {
      "cell_type": "markdown",
      "metadata": {
        "id": "JYtgtzGDTZ7H",
        "colab_type": "text"
      },
      "source": [
        "**Some utility functions to help upload and download**"
      ]
    },
    {
      "cell_type": "code",
      "metadata": {
        "id": "hTv4A_joaBrt",
        "colab_type": "code",
        "colab": {}
      },
      "source": [
        "def imShow(path):\n",
        "  import cv2\n",
        "  import matplotlib.pyplot as plt\n",
        "  %matplotlib inline\n",
        "\n",
        "  image = cv2.imread(path)\n",
        "  height, width = image.shape[:2]\n",
        "  resized_image = cv2.resize(image,(3*width, 3*height), interpolation = cv2.INTER_CUBIC)\n",
        "\n",
        "  fig = plt.gcf()\n",
        "  fig.set_size_inches(18, 10)\n",
        "  plt.axis(\"off\")\n",
        "  #plt.rcParams['figure.figsize'] = [10, 5]\n",
        "  plt.imshow(cv2.cvtColor(resized_image, cv2.COLOR_BGR2RGB))\n",
        "  plt.show()\n",
        "  \n",
        "  \n",
        "def upload():\n",
        "  from google.colab import files\n",
        "  uploaded = files.upload() \n",
        "  for name, data in uploaded.items():\n",
        "    with open(name, 'wb') as f:\n",
        "      f.write(data)\n",
        "      print ('saved file', name)\n",
        "def download(path):\n",
        "  from google.colab import files\n",
        "  files.download(path)"
      ],
      "execution_count": 0,
      "outputs": []
    },
    {
      "cell_type": "markdown",
      "metadata": {
        "id": "-AlvuguBTk5A",
        "colab_type": "text"
      },
      "source": [
        "**Now we will download pretrained weights**"
      ]
    },
    {
      "cell_type": "code",
      "metadata": {
        "id": "1RlRHU7uT4hi",
        "colab_type": "code",
        "colab": {}
      },
      "source": [
        "!wget https://pjreddie.com/media/files/yolov3.weights"
      ],
      "execution_count": 0,
      "outputs": []
    },
    {
      "cell_type": "markdown",
      "metadata": {
        "id": "YJw_OGLST6oo",
        "colab_type": "text"
      },
      "source": [
        "# **Step 5: Detecting Objects**"
      ]
    },
    {
      "cell_type": "markdown",
      "metadata": {
        "id": "3IT6DE_hUiZB",
        "colab_type": "text"
      },
      "source": [
        "**1. For pictures**\n",
        "\n",
        "Save your picture to be detected in darknet/data folder and replace 'person.jpg' with your file_name and its extension.\n",
        "\n",
        "**NOTE:** You can also use the upload method used below to upload you files. But the code for image detection will be the same as in following cell."
      ]
    },
    {
      "cell_type": "code",
      "metadata": {
        "id": "e3CsJp03Wp2M",
        "colab_type": "code",
        "colab": {}
      },
      "source": [
        "!./darknet detect cfg/yolov3.cfg yolov3.weights data/person.jpg -dont_show\n",
        "\n",
        "imShow('predictions.jpg')"
      ],
      "execution_count": 0,
      "outputs": []
    },
    {
      "cell_type": "markdown",
      "metadata": {
        "id": "wa9BAcxaWO3G",
        "colab_type": "text"
      },
      "source": [
        "**2. For Videos**\n",
        "\n",
        "We will use upload method here. But can manually put your videos too.\n",
        "\n",
        "Now be careful, darknet seems to crash if you provide wrong type of output file extension (non .avi), the syntax should be exact the same\n",
        "whatever-you-upload.mp4 is file you provide, and whatever-you-want.avi is what you get:"
      ]
    },
    {
      "cell_type": "code",
      "metadata": {
        "id": "cCLWy6Y_7eXj",
        "colab_type": "code",
        "colab": {}
      },
      "source": [
        "upload()    #The file gets saved in darknet/ folder, you must remember the path\n",
        "!pwd"
      ],
      "execution_count": 0,
      "outputs": []
    },
    {
      "cell_type": "markdown",
      "metadata": {
        "id": "OVO97shWXZIG",
        "colab_type": "text"
      },
      "source": [
        "Now we run the code for object detection on your uploaded video. This might take a while so be patient."
      ]
    },
    {
      "cell_type": "code",
      "metadata": {
        "id": "8_Qt7SYpAeky",
        "colab_type": "code",
        "colab": {}
      },
      "source": [
        "#Replace the input_file.mp4 with your uploaded file. And the out_file.avi with whatever-you-want.avi \n",
        "\n",
        "!./darknet detector demo cfg/coco.data cfg/yolov3.cfg yolov3.weights -dont_show input_file.mp4 -i 0 -out_filename whatever-you-want.avi"
      ],
      "execution_count": 0,
      "outputs": []
    },
    {
      "cell_type": "code",
      "metadata": {
        "id": "CKT4b8R2Hk-e",
        "colab_type": "code",
        "colab": {}
      },
      "source": [
        "path=  #Mention the path of the output file\n",
        "download(path)"
      ],
      "execution_count": 0,
      "outputs": []
    }
  ]
}